{
 "cells": [
  {
   "cell_type": "code",
   "execution_count": 1,
   "id": "6155d7ea-37b1-41f9-9772-911bd0aed557",
   "metadata": {},
   "outputs": [
    {
     "name": "stdout",
     "output_type": "stream",
     "text": [
      "Using GPU: NVIDIA GeForce RTX 3050 6GB Laptop GPU, GPU Memory: 6.00 GB\n"
     ]
    }
   ],
   "source": [
    "# Import necessary libraries\n",
    "import torch\n",
    "\n",
    "# Check if CUDA (GPU acceleration) is available\n",
    "if torch.cuda.is_available():\n",
    "    # Get the name of the GPU device\n",
    "    gpu_name = torch.cuda.get_device_name(0)\n",
    "    # Get the available GPU memory\n",
    "    gpu_memory = torch.cuda.get_device_properties(0).total_memory / 1024**3  # Convert bytes to GB\n",
    "    # Print the GPU specs\n",
    "    print(f'Using GPU: {gpu_name}, GPU Memory: {gpu_memory:.2f} GB')\n",
    "else:\n",
    "    print('CUDA is not available. Running on CPU.')"
   ]
  },
  {
   "cell_type": "code",
   "execution_count": null,
   "id": "6010534d-fc3d-4031-b0c6-be7c311ac21b",
   "metadata": {},
   "outputs": [],
   "source": [
    "!pip install ultralytics"
   ]
  },
  {
   "cell_type": "code",
   "execution_count": 2,
   "id": "719d0756-f26f-4ff3-a48e-c61197cbb140",
   "metadata": {},
   "outputs": [],
   "source": [
    "from ultralytics import YOLO"
   ]
  },
  {
   "cell_type": "code",
   "execution_count": 3,
   "id": "e8e66af8-03ad-49af-bd02-19869f74c939",
   "metadata": {},
   "outputs": [],
   "source": [
    "model = YOLO(\"yolov8l.pt\")"
   ]
  },
  {
   "cell_type": "code",
   "execution_count": 4,
   "id": "9247d9d2-ad99-40bd-a9bc-03a2fcdd63af",
   "metadata": {},
   "outputs": [
    {
     "name": "stdout",
     "output_type": "stream",
     "text": [
      " Volume in drive C is Windows-SSD\n",
      " Volume Serial Number is 34FA-00B2\n",
      "\n",
      " Directory of C:\\Users\\kesha\\anaconda3\\envs\\Webcam\n",
      "\n",
      "06-07-2024  20:14    <DIR>          .\n",
      "06-07-2024  20:14    <DIR>          ..\n",
      "06-07-2024  20:04    <DIR>          .ipynb_checkpoints\n",
      "06-07-2024  20:02                 0 .nonadmin\n",
      "10-07-2015  03:55            19,136 api-ms-win-core-console-l1-1-0.dll\n",
      "10-07-2015  03:55            18,624 api-ms-win-core-datetime-l1-1-0.dll\n",
      "10-07-2015  03:55            18,624 api-ms-win-core-debug-l1-1-0.dll\n",
      "10-07-2015  03:55            18,624 api-ms-win-core-errorhandling-l1-1-0.dll\n",
      "10-07-2015  03:55            22,208 api-ms-win-core-file-l1-1-0.dll\n",
      "10-07-2015  03:55            18,624 api-ms-win-core-file-l1-2-0.dll\n",
      "10-07-2015  03:55            18,624 api-ms-win-core-file-l2-1-0.dll\n",
      "10-07-2015  03:55            18,624 api-ms-win-core-handle-l1-1-0.dll\n",
      "10-07-2015  03:55            19,136 api-ms-win-core-heap-l1-1-0.dll\n",
      "10-07-2015  03:55            18,624 api-ms-win-core-interlocked-l1-1-0.dll\n",
      "10-07-2015  03:55            19,136 api-ms-win-core-libraryloader-l1-1-0.dll\n",
      "10-07-2015  03:55            21,184 api-ms-win-core-localization-l1-2-0.dll\n",
      "10-07-2015  03:55            19,136 api-ms-win-core-memory-l1-1-0.dll\n",
      "10-07-2015  03:55            18,624 api-ms-win-core-namedpipe-l1-1-0.dll\n",
      "10-07-2015  03:56            19,648 api-ms-win-core-processenvironment-l1-1-0.dll\n",
      "10-07-2015  03:56            20,672 api-ms-win-core-processthreads-l1-1-0.dll\n",
      "10-07-2015  03:55            19,136 api-ms-win-core-processthreads-l1-1-1.dll\n",
      "10-07-2015  03:56            18,112 api-ms-win-core-profile-l1-1-0.dll\n",
      "10-07-2015  03:56            19,136 api-ms-win-core-rtlsupport-l1-1-0.dll\n",
      "10-07-2015  03:56            18,624 api-ms-win-core-string-l1-1-0.dll\n",
      "10-07-2015  03:56            20,672 api-ms-win-core-synch-l1-1-0.dll\n",
      "10-07-2015  03:56            19,136 api-ms-win-core-synch-l1-2-0.dll\n",
      "10-07-2015  03:55            19,648 api-ms-win-core-sysinfo-l1-1-0.dll\n",
      "10-07-2015  03:56            18,624 api-ms-win-core-timezone-l1-1-0.dll\n",
      "10-07-2015  03:56            18,624 api-ms-win-core-util-l1-1-0.dll\n",
      "10-07-2015  03:55            19,648 api-ms-win-crt-conio-l1-1-0.dll\n",
      "10-07-2015  03:56            22,720 api-ms-win-crt-convert-l1-1-0.dll\n",
      "10-07-2015  03:56            19,136 api-ms-win-crt-environment-l1-1-0.dll\n",
      "10-07-2015  03:55            20,672 api-ms-win-crt-filesystem-l1-1-0.dll\n",
      "10-07-2015  03:56            19,648 api-ms-win-crt-heap-l1-1-0.dll\n",
      "10-07-2015  03:56            19,136 api-ms-win-crt-locale-l1-1-0.dll\n",
      "10-07-2015  03:55            27,840 api-ms-win-crt-math-l1-1-0.dll\n",
      "10-07-2015  03:56            26,816 api-ms-win-crt-multibyte-l1-1-0.dll\n",
      "10-07-2015  03:55            70,848 api-ms-win-crt-private-l1-1-0.dll\n",
      "10-07-2015  03:56            19,648 api-ms-win-crt-process-l1-1-0.dll\n",
      "10-07-2015  03:56            23,232 api-ms-win-crt-runtime-l1-1-0.dll\n",
      "10-07-2015  03:56            24,768 api-ms-win-crt-stdio-l1-1-0.dll\n",
      "10-07-2015  03:56            24,768 api-ms-win-crt-string-l1-1-0.dll\n",
      "10-07-2015  03:56            21,184 api-ms-win-crt-time-l1-1-0.dll\n",
      "10-07-2015  03:56            19,136 api-ms-win-crt-utility-l1-1-0.dll\n",
      "06-07-2024  20:02    <DIR>          bin\n",
      "06-07-2024  20:02             5,933 build_env_setup.bat\n",
      "23-06-2024  02:01           317,888 concrt140.dll\n",
      "26-08-2022  05:31               479 conda_build.bat\n",
      "06-07-2024  20:02    <DIR>          conda-meta\n",
      "06-07-2024  20:00    <DIR>          DLLs\n",
      "06-07-2024  20:02    <DIR>          doc\n",
      "06-07-2024  20:00    <DIR>          etc\n",
      "06-07-2024  20:02    <DIR>          include\n",
      "06-07-2024  20:02    <DIR>          Lib\n",
      "06-07-2024  20:02    <DIR>          Library\n",
      "06-07-2024  20:00    <DIR>          libs\n",
      "26-08-2022  04:55            61,498 LICENSE\n",
      "20-03-2024  03:16            13,936 LICENSE_PYTHON.txt\n",
      "06-07-2024  20:00    <DIR>          Menu\n",
      "26-08-2022  05:31               258 metadata_conda_debug.yaml\n",
      "23-06-2024  02:01           567,328 msvcp140.dll\n",
      "23-06-2024  02:01            25,016 msvcp140_1.dll\n",
      "23-06-2024  02:01           186,928 msvcp140_2.dll\n",
      "23-06-2024  02:01            57,392 msvcp140_atomic_wait.dll\n",
      "23-06-2024  02:01            21,536 msvcp140_codecvt_ids.dll\n",
      "07-05-2024  01:24           104,216 python.exe\n",
      "07-05-2024  01:16           430,080 python.pdb\n",
      "07-05-2024  01:22            66,320 python3.dll\n",
      "07-05-2024  01:22         4,761,360 python310.dll\n",
      "07-05-2024  01:16        12,857,344 python310.pdb\n",
      "07-05-2024  01:24           102,672 pythonw.exe\n",
      "07-05-2024  01:17           438,272 pythonw.pdb\n",
      "06-07-2024  20:02    <DIR>          samples\n",
      "06-07-2024  20:05    <DIR>          Scripts\n",
      "06-07-2024  20:00    <DIR>          share\n",
      "06-07-2024  20:02    <DIR>          src\n",
      "06-07-2024  20:00    <DIR>          Tools\n",
      "10-07-2015  03:56           982,720 ucrtbase.dll\n",
      "23-06-2024  02:01           335,800 vccorlib140.dll\n",
      "23-06-2024  02:01           181,808 vcomp140.dll\n",
      "23-06-2024  02:01            98,336 vcruntime140.dll\n",
      "23-06-2024  02:01            38,448 vcruntime140_1.dll\n",
      "06-07-2024  20:14             2,732 Webcam.ipynb\n",
      "06-07-2024  20:06        87,792,836 yolov8l.pt\n",
      "06-07-2024  20:07    <DIR>          Yv8\n",
      "01-05-2024  03:37            99,608 zlib.dll\n",
      "              67 File(s)    110,410,904 bytes\n",
      "              19 Dir(s)  92,444,565,504 bytes free\n"
     ]
    }
   ],
   "source": [
    "ls"
   ]
  },
  {
   "cell_type": "code",
   "execution_count": 5,
   "id": "e020929c-9ccb-49f4-a3a0-20418e3ebb77",
   "metadata": {},
   "outputs": [
    {
     "name": "stdout",
     "output_type": "stream",
     "text": [
      "C:\\Users\\kesha\\anaconda3\\envs\\Webcam\\Yv8\n"
     ]
    },
    {
     "name": "stderr",
     "output_type": "stream",
     "text": [
      "C:\\Users\\kesha\\anaconda3\\envs\\Webcam\\lib\\site-packages\\IPython\\core\\magics\\osm.py:417: UserWarning: This is now an optional IPython functionality, setting dhist requires you to install the `pickleshare` library.\n",
      "  self.shell.db['dhist'] = compress_dhist(dhist)[-100:]\n"
     ]
    }
   ],
   "source": [
    "cd Yv8"
   ]
  },
  {
   "cell_type": "code",
   "execution_count": 6,
   "id": "3f7d18e4-07fc-4436-9996-0cd04f3fe21f",
   "metadata": {},
   "outputs": [
    {
     "name": "stdout",
     "output_type": "stream",
     "text": [
      "Ultralytics YOLOv8.2.50  Python-3.10.14 torch-2.3.1 CUDA:0 (NVIDIA GeForce RTX 3050 6GB Laptop GPU, 6144MiB)\n",
      "\u001b[34m\u001b[1mengine\\trainer: \u001b[0mtask=detect, mode=train, model=yolov8l.pt, data=data.yaml, epochs=3, time=None, patience=100, batch=16, imgsz=640, save=True, save_period=-1, cache=False, device=None, workers=8, project=None, name=train12, exist_ok=False, pretrained=True, optimizer=auto, verbose=True, seed=0, deterministic=True, single_cls=False, rect=False, cos_lr=False, close_mosaic=10, resume=False, amp=True, fraction=1.0, profile=False, freeze=None, multi_scale=False, overlap_mask=True, mask_ratio=4, dropout=0.0, val=True, split=val, save_json=False, save_hybrid=False, conf=None, iou=0.7, max_det=300, half=False, dnn=False, plots=True, source=None, vid_stride=1, stream_buffer=False, visualize=False, augment=False, agnostic_nms=False, classes=None, retina_masks=False, embed=None, show=False, save_frames=False, save_txt=False, save_conf=False, save_crop=False, show_labels=True, show_conf=True, show_boxes=True, line_width=None, format=torchscript, keras=False, optimize=False, int8=False, dynamic=False, simplify=False, opset=None, workspace=4, nms=False, lr0=0.01, lrf=0.01, momentum=0.937, weight_decay=0.0005, warmup_epochs=3.0, warmup_momentum=0.8, warmup_bias_lr=0.1, box=7.5, cls=0.5, dfl=1.5, pose=12.0, kobj=1.0, label_smoothing=0.0, nbs=64, hsv_h=0.015, hsv_s=0.7, hsv_v=0.4, degrees=0.0, translate=0.1, scale=0.5, shear=0.0, perspective=0.0, flipud=0.0, fliplr=0.5, bgr=0.0, mosaic=1.0, mixup=0.0, copy_paste=0.0, auto_augment=randaugment, erasing=0.4, crop_fraction=1.0, cfg=None, tracker=botsort.yaml, save_dir=C:\\Users\\kesha\\runs\\detect\\train12\n"
     ]
    },
    {
     "ename": "RuntimeError",
     "evalue": "Dataset 'data.yaml' error  \nDataset 'data.yaml' images not found , missing path 'C:\\Users\\kesha\\anaconda3\\envs\\YoloWebcam\\Yv8\\data\\val\\images'\nNote dataset download directory is 'C:\\Users\\kesha\\anaconda3\\envs\\YoloWebcam\\Yv8'. You can update this in 'C:\\Users\\kesha\\AppData\\Roaming\\Ultralytics\\settings.yaml'",
     "output_type": "error",
     "traceback": [
      "\u001b[1;31m---------------------------------------------------------------------------\u001b[0m",
      "\u001b[1;31mFileNotFoundError\u001b[0m                         Traceback (most recent call last)",
      "File \u001b[1;32m~\\anaconda3\\envs\\Webcam\\lib\\site-packages\\ultralytics\\engine\\trainer.py:527\u001b[0m, in \u001b[0;36mBaseTrainer.get_dataset\u001b[1;34m(self)\u001b[0m\n\u001b[0;32m    521\u001b[0m \u001b[38;5;28;01melif\u001b[39;00m \u001b[38;5;28mself\u001b[39m\u001b[38;5;241m.\u001b[39margs\u001b[38;5;241m.\u001b[39mdata\u001b[38;5;241m.\u001b[39msplit(\u001b[38;5;124m\"\u001b[39m\u001b[38;5;124m.\u001b[39m\u001b[38;5;124m\"\u001b[39m)[\u001b[38;5;241m-\u001b[39m\u001b[38;5;241m1\u001b[39m] \u001b[38;5;129;01min\u001b[39;00m {\u001b[38;5;124m\"\u001b[39m\u001b[38;5;124myaml\u001b[39m\u001b[38;5;124m\"\u001b[39m, \u001b[38;5;124m\"\u001b[39m\u001b[38;5;124myml\u001b[39m\u001b[38;5;124m\"\u001b[39m} \u001b[38;5;129;01mor\u001b[39;00m \u001b[38;5;28mself\u001b[39m\u001b[38;5;241m.\u001b[39margs\u001b[38;5;241m.\u001b[39mtask \u001b[38;5;129;01min\u001b[39;00m {\n\u001b[0;32m    522\u001b[0m     \u001b[38;5;124m\"\u001b[39m\u001b[38;5;124mdetect\u001b[39m\u001b[38;5;124m\"\u001b[39m,\n\u001b[0;32m    523\u001b[0m     \u001b[38;5;124m\"\u001b[39m\u001b[38;5;124msegment\u001b[39m\u001b[38;5;124m\"\u001b[39m,\n\u001b[0;32m    524\u001b[0m     \u001b[38;5;124m\"\u001b[39m\u001b[38;5;124mpose\u001b[39m\u001b[38;5;124m\"\u001b[39m,\n\u001b[0;32m    525\u001b[0m     \u001b[38;5;124m\"\u001b[39m\u001b[38;5;124mobb\u001b[39m\u001b[38;5;124m\"\u001b[39m,\n\u001b[0;32m    526\u001b[0m }:\n\u001b[1;32m--> 527\u001b[0m     data \u001b[38;5;241m=\u001b[39m \u001b[43mcheck_det_dataset\u001b[49m\u001b[43m(\u001b[49m\u001b[38;5;28;43mself\u001b[39;49m\u001b[38;5;241;43m.\u001b[39;49m\u001b[43margs\u001b[49m\u001b[38;5;241;43m.\u001b[39;49m\u001b[43mdata\u001b[49m\u001b[43m)\u001b[49m\n\u001b[0;32m    528\u001b[0m     \u001b[38;5;28;01mif\u001b[39;00m \u001b[38;5;124m\"\u001b[39m\u001b[38;5;124myaml_file\u001b[39m\u001b[38;5;124m\"\u001b[39m \u001b[38;5;129;01min\u001b[39;00m data:\n",
      "File \u001b[1;32m~\\anaconda3\\envs\\Webcam\\lib\\site-packages\\ultralytics\\data\\utils.py:329\u001b[0m, in \u001b[0;36mcheck_det_dataset\u001b[1;34m(dataset, autodownload)\u001b[0m\n\u001b[0;32m    328\u001b[0m     m \u001b[38;5;241m+\u001b[39m\u001b[38;5;241m=\u001b[39m \u001b[38;5;124mf\u001b[39m\u001b[38;5;124m\"\u001b[39m\u001b[38;5;130;01m\\n\u001b[39;00m\u001b[38;5;124mNote dataset download directory is \u001b[39m\u001b[38;5;124m'\u001b[39m\u001b[38;5;132;01m{\u001b[39;00mDATASETS_DIR\u001b[38;5;132;01m}\u001b[39;00m\u001b[38;5;124m'\u001b[39m\u001b[38;5;124m. You can update this in \u001b[39m\u001b[38;5;124m'\u001b[39m\u001b[38;5;132;01m{\u001b[39;00mSETTINGS_YAML\u001b[38;5;132;01m}\u001b[39;00m\u001b[38;5;124m'\u001b[39m\u001b[38;5;124m\"\u001b[39m\n\u001b[1;32m--> 329\u001b[0m     \u001b[38;5;28;01mraise\u001b[39;00m \u001b[38;5;167;01mFileNotFoundError\u001b[39;00m(m)\n\u001b[0;32m    330\u001b[0m t \u001b[38;5;241m=\u001b[39m time\u001b[38;5;241m.\u001b[39mtime()\n",
      "\u001b[1;31mFileNotFoundError\u001b[0m: \nDataset 'data.yaml' images not found ⚠️, missing path 'C:\\Users\\kesha\\anaconda3\\envs\\YoloWebcam\\Yv8\\data\\val\\images'\nNote dataset download directory is 'C:\\Users\\kesha\\anaconda3\\envs\\YoloWebcam\\Yv8'. You can update this in 'C:\\Users\\kesha\\AppData\\Roaming\\Ultralytics\\settings.yaml'",
      "\nThe above exception was the direct cause of the following exception:\n",
      "\u001b[1;31mRuntimeError\u001b[0m                              Traceback (most recent call last)",
      "Cell \u001b[1;32mIn[6], line 1\u001b[0m\n\u001b[1;32m----> 1\u001b[0m \u001b[43mmodel\u001b[49m\u001b[38;5;241;43m.\u001b[39;49m\u001b[43mtrain\u001b[49m\u001b[43m(\u001b[49m\u001b[43mdata\u001b[49m\u001b[38;5;241;43m=\u001b[39;49m\u001b[38;5;124;43m\"\u001b[39;49m\u001b[38;5;124;43mdata.yaml\u001b[39;49m\u001b[38;5;124;43m\"\u001b[39;49m\u001b[43m,\u001b[49m\u001b[43m \u001b[49m\u001b[43mepochs\u001b[49m\u001b[38;5;241;43m=\u001b[39;49m\u001b[38;5;241;43m3\u001b[39;49m\u001b[43m)\u001b[49m\n",
      "File \u001b[1;32m~\\anaconda3\\envs\\Webcam\\lib\\site-packages\\ultralytics\\engine\\model.py:644\u001b[0m, in \u001b[0;36mModel.train\u001b[1;34m(self, trainer, **kwargs)\u001b[0m\n\u001b[0;32m    641\u001b[0m \u001b[38;5;28;01mif\u001b[39;00m args\u001b[38;5;241m.\u001b[39mget(\u001b[38;5;124m\"\u001b[39m\u001b[38;5;124mresume\u001b[39m\u001b[38;5;124m\"\u001b[39m):\n\u001b[0;32m    642\u001b[0m     args[\u001b[38;5;124m\"\u001b[39m\u001b[38;5;124mresume\u001b[39m\u001b[38;5;124m\"\u001b[39m] \u001b[38;5;241m=\u001b[39m \u001b[38;5;28mself\u001b[39m\u001b[38;5;241m.\u001b[39mckpt_path\n\u001b[1;32m--> 644\u001b[0m \u001b[38;5;28mself\u001b[39m\u001b[38;5;241m.\u001b[39mtrainer \u001b[38;5;241m=\u001b[39m \u001b[43m(\u001b[49m\u001b[43mtrainer\u001b[49m\u001b[43m \u001b[49m\u001b[38;5;129;43;01mor\u001b[39;49;00m\u001b[43m \u001b[49m\u001b[38;5;28;43mself\u001b[39;49m\u001b[38;5;241;43m.\u001b[39;49m\u001b[43m_smart_load\u001b[49m\u001b[43m(\u001b[49m\u001b[38;5;124;43m\"\u001b[39;49m\u001b[38;5;124;43mtrainer\u001b[39;49m\u001b[38;5;124;43m\"\u001b[39;49m\u001b[43m)\u001b[49m\u001b[43m)\u001b[49m\u001b[43m(\u001b[49m\u001b[43moverrides\u001b[49m\u001b[38;5;241;43m=\u001b[39;49m\u001b[43margs\u001b[49m\u001b[43m,\u001b[49m\u001b[43m \u001b[49m\u001b[43m_callbacks\u001b[49m\u001b[38;5;241;43m=\u001b[39;49m\u001b[38;5;28;43mself\u001b[39;49m\u001b[38;5;241;43m.\u001b[39;49m\u001b[43mcallbacks\u001b[49m\u001b[43m)\u001b[49m\n\u001b[0;32m    645\u001b[0m \u001b[38;5;28;01mif\u001b[39;00m \u001b[38;5;129;01mnot\u001b[39;00m args\u001b[38;5;241m.\u001b[39mget(\u001b[38;5;124m\"\u001b[39m\u001b[38;5;124mresume\u001b[39m\u001b[38;5;124m\"\u001b[39m):  \u001b[38;5;66;03m# manually set model only if not resuming\u001b[39;00m\n\u001b[0;32m    646\u001b[0m     \u001b[38;5;28mself\u001b[39m\u001b[38;5;241m.\u001b[39mtrainer\u001b[38;5;241m.\u001b[39mmodel \u001b[38;5;241m=\u001b[39m \u001b[38;5;28mself\u001b[39m\u001b[38;5;241m.\u001b[39mtrainer\u001b[38;5;241m.\u001b[39mget_model(weights\u001b[38;5;241m=\u001b[39m\u001b[38;5;28mself\u001b[39m\u001b[38;5;241m.\u001b[39mmodel \u001b[38;5;28;01mif\u001b[39;00m \u001b[38;5;28mself\u001b[39m\u001b[38;5;241m.\u001b[39mckpt \u001b[38;5;28;01melse\u001b[39;00m \u001b[38;5;28;01mNone\u001b[39;00m, cfg\u001b[38;5;241m=\u001b[39m\u001b[38;5;28mself\u001b[39m\u001b[38;5;241m.\u001b[39mmodel\u001b[38;5;241m.\u001b[39myaml)\n",
      "File \u001b[1;32m~\\anaconda3\\envs\\Webcam\\lib\\site-packages\\ultralytics\\engine\\trainer.py:132\u001b[0m, in \u001b[0;36mBaseTrainer.__init__\u001b[1;34m(self, cfg, overrides, _callbacks)\u001b[0m\n\u001b[0;32m    130\u001b[0m \u001b[38;5;28mself\u001b[39m\u001b[38;5;241m.\u001b[39mmodel \u001b[38;5;241m=\u001b[39m check_model_file_from_stem(\u001b[38;5;28mself\u001b[39m\u001b[38;5;241m.\u001b[39margs\u001b[38;5;241m.\u001b[39mmodel)  \u001b[38;5;66;03m# add suffix, i.e. yolov8n -> yolov8n.pt\u001b[39;00m\n\u001b[0;32m    131\u001b[0m \u001b[38;5;28;01mwith\u001b[39;00m torch_distributed_zero_first(RANK):  \u001b[38;5;66;03m# avoid auto-downloading dataset multiple times\u001b[39;00m\n\u001b[1;32m--> 132\u001b[0m     \u001b[38;5;28mself\u001b[39m\u001b[38;5;241m.\u001b[39mtrainset, \u001b[38;5;28mself\u001b[39m\u001b[38;5;241m.\u001b[39mtestset \u001b[38;5;241m=\u001b[39m \u001b[38;5;28;43mself\u001b[39;49m\u001b[38;5;241;43m.\u001b[39;49m\u001b[43mget_dataset\u001b[49m\u001b[43m(\u001b[49m\u001b[43m)\u001b[49m\n\u001b[0;32m    133\u001b[0m \u001b[38;5;28mself\u001b[39m\u001b[38;5;241m.\u001b[39mema \u001b[38;5;241m=\u001b[39m \u001b[38;5;28;01mNone\u001b[39;00m\n\u001b[0;32m    135\u001b[0m \u001b[38;5;66;03m# Optimization utils init\u001b[39;00m\n",
      "File \u001b[1;32m~\\anaconda3\\envs\\Webcam\\lib\\site-packages\\ultralytics\\engine\\trainer.py:531\u001b[0m, in \u001b[0;36mBaseTrainer.get_dataset\u001b[1;34m(self)\u001b[0m\n\u001b[0;32m    529\u001b[0m             \u001b[38;5;28mself\u001b[39m\u001b[38;5;241m.\u001b[39margs\u001b[38;5;241m.\u001b[39mdata \u001b[38;5;241m=\u001b[39m data[\u001b[38;5;124m\"\u001b[39m\u001b[38;5;124myaml_file\u001b[39m\u001b[38;5;124m\"\u001b[39m]  \u001b[38;5;66;03m# for validating 'yolo train data=url.zip' usage\u001b[39;00m\n\u001b[0;32m    530\u001b[0m \u001b[38;5;28;01mexcept\u001b[39;00m \u001b[38;5;167;01mException\u001b[39;00m \u001b[38;5;28;01mas\u001b[39;00m e:\n\u001b[1;32m--> 531\u001b[0m     \u001b[38;5;28;01mraise\u001b[39;00m \u001b[38;5;167;01mRuntimeError\u001b[39;00m(emojis(\u001b[38;5;124mf\u001b[39m\u001b[38;5;124m\"\u001b[39m\u001b[38;5;124mDataset \u001b[39m\u001b[38;5;124m'\u001b[39m\u001b[38;5;132;01m{\u001b[39;00mclean_url(\u001b[38;5;28mself\u001b[39m\u001b[38;5;241m.\u001b[39margs\u001b[38;5;241m.\u001b[39mdata)\u001b[38;5;132;01m}\u001b[39;00m\u001b[38;5;124m'\u001b[39m\u001b[38;5;124m error ❌ \u001b[39m\u001b[38;5;132;01m{\u001b[39;00me\u001b[38;5;132;01m}\u001b[39;00m\u001b[38;5;124m\"\u001b[39m)) \u001b[38;5;28;01mfrom\u001b[39;00m \u001b[38;5;21;01me\u001b[39;00m\n\u001b[0;32m    532\u001b[0m \u001b[38;5;28mself\u001b[39m\u001b[38;5;241m.\u001b[39mdata \u001b[38;5;241m=\u001b[39m data\n\u001b[0;32m    533\u001b[0m \u001b[38;5;28;01mreturn\u001b[39;00m data[\u001b[38;5;124m\"\u001b[39m\u001b[38;5;124mtrain\u001b[39m\u001b[38;5;124m\"\u001b[39m], data\u001b[38;5;241m.\u001b[39mget(\u001b[38;5;124m\"\u001b[39m\u001b[38;5;124mval\u001b[39m\u001b[38;5;124m\"\u001b[39m) \u001b[38;5;129;01mor\u001b[39;00m data\u001b[38;5;241m.\u001b[39mget(\u001b[38;5;124m\"\u001b[39m\u001b[38;5;124mtest\u001b[39m\u001b[38;5;124m\"\u001b[39m)\n",
      "\u001b[1;31mRuntimeError\u001b[0m: Dataset 'data.yaml' error  \nDataset 'data.yaml' images not found , missing path 'C:\\Users\\kesha\\anaconda3\\envs\\YoloWebcam\\Yv8\\data\\val\\images'\nNote dataset download directory is 'C:\\Users\\kesha\\anaconda3\\envs\\YoloWebcam\\Yv8'. You can update this in 'C:\\Users\\kesha\\AppData\\Roaming\\Ultralytics\\settings.yaml'"
     ]
    }
   ],
   "source": [
    "model.train(data=\"data.yaml\", epochs=3) "
   ]
  },
  {
   "cell_type": "code",
   "execution_count": null,
   "id": "d8539905-cbf5-40aa-bc7a-24f74ddb9826",
   "metadata": {},
   "outputs": [],
   "source": []
  }
 ],
 "metadata": {
  "kernelspec": {
   "display_name": "Python 3 (ipykernel)",
   "language": "python",
   "name": "python3"
  },
  "language_info": {
   "codemirror_mode": {
    "name": "ipython",
    "version": 3
   },
   "file_extension": ".py",
   "mimetype": "text/x-python",
   "name": "python",
   "nbconvert_exporter": "python",
   "pygments_lexer": "ipython3",
   "version": "3.10.14"
  }
 },
 "nbformat": 4,
 "nbformat_minor": 5
}
